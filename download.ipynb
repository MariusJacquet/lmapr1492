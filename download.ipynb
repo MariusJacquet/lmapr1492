{
 "cells": [
  {
   "cell_type": "code",
   "execution_count": 1,
   "id": "c243d3eb",
   "metadata": {},
   "outputs": [],
   "source": [
    "from pymatgen.ext.matproj import MPRester\n",
    "from pymatgen.io.cif import CifWriter\n",
    "from IPython.display import FileLink"
   ]
  },
  {
   "cell_type": "code",
   "execution_count": 5,
   "id": "63bbfc54",
   "metadata": {},
   "outputs": [
    {
     "data": {
      "text/html": [
       "<a href='mp-30460.cif' target='_blank'>mp-30460.cif</a><br>"
      ],
      "text/plain": [
       "/home/users/m/j/mjacquet/mp-30460.cif"
      ]
     },
     "metadata": {},
     "output_type": "display_data"
    }
   ],
   "source": [
    "Key = \"eydjkyvaohvx0D8I\"\n",
    "mat = \"mp-30460\"\n",
    "m = MPRester(Key)\n",
    "s = m.get_structure_by_material_id(mat,conventional_unit_cell=True)\n",
    "doc = CifWriter(s)\n",
    "doc.write_file(mat+\".cif\")\n",
    "display(FileLink(mat+\".cif\"))"
   ]
  },
  {
   "cell_type": "code",
   "execution_count": null,
   "id": "fcb7adce",
   "metadata": {},
   "outputs": [],
   "source": []
  }
 ],
 "metadata": {
  "kernelspec": {
   "display_name": "Python 3",
   "language": "python",
   "name": "python3"
  },
  "language_info": {
   "codemirror_mode": {
    "name": "ipython",
    "version": 3
   },
   "file_extension": ".py",
   "mimetype": "text/x-python",
   "name": "python",
   "nbconvert_exporter": "python",
   "pygments_lexer": "ipython3",
   "version": "3.6.8"
  }
 },
 "nbformat": 4,
 "nbformat_minor": 5
}
