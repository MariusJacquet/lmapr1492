{
 "cells": [
  {
   "cell_type": "markdown",
   "metadata": {},
   "source": [
    "# Mini projet : \n",
    "## Partie 1 : Structure du cristal\n",
    "\n",
    "### Marius Jacquet"
   ]
  },
  {
   "cell_type": "code",
   "execution_count": 1,
   "metadata": {},
   "outputs": [],
   "source": [
    "# Import\n",
    "import numpy as np\n",
    "from pymatgen.symmetry.analyzer import SpacegroupAnalyzer\n",
    "from pymatgen.ext.matproj import MPRester\n",
    "from jupyter_jsmol.pymatgen import JsmolView"
   ]
  },
  {
   "cell_type": "code",
   "execution_count": 2,
   "metadata": {},
   "outputs": [
    {
     "data": {
      "application/vnd.jupyter.widget-view+json": {
       "model_id": "6ec3194bf09b43a9a3fdf6b76b30c5d4",
       "version_major": 2,
       "version_minor": 0
      },
      "text/plain": [
       "Retrieving MaterialsDoc documents:   0%|          | 0/1 [00:00<?, ?it/s]"
      ]
     },
     "metadata": {},
     "output_type": "display_data"
    }
   ],
   "source": [
    "# Import des données de structure du matériau \n",
    "\n",
    "with MPRester(\"ClP8wE7rgC4VunNMMiut1b2BYMfgW6Lu\") as m:\n",
    "    prim_struc = m.get_structure_by_material_id(\"mp-7988\")\n",
    "\n",
    "conv_struc = SpacegroupAnalyzer(prim_struc).get_conventional_standard_structure()"
   ]
  },
  {
   "cell_type": "markdown",
   "metadata": {},
   "source": [
    "### Résumé des données de materials project pour la maille coneventionnelle du $Cs_2O$"
   ]
  },
  {
   "cell_type": "code",
   "execution_count": 3,
   "metadata": {},
   "outputs": [
    {
     "name": "stdout",
     "output_type": "stream",
     "text": [
      "Visualisation de la maille conventionnelle :\n"
     ]
    },
    {
     "data": {
      "application/vnd.jupyter.widget-view+json": {
       "model_id": "31f8acdfe0de4cfc808ce685c78aa9e7",
       "version_major": 2,
       "version_minor": 0
      },
      "text/plain": [
       "JsmolView(layout=Layout(align_self='stretch', height='400px'))"
      ]
     },
     "metadata": {},
     "output_type": "display_data"
    },
    {
     "name": "stdout",
     "output_type": "stream",
     "text": [
      "Structure de la maille conventionnelle :\n"
     ]
    },
    {
     "data": {
      "text/plain": [
       "Structure Summary\n",
       "Lattice\n",
       "    abc : 4.197928893645642 4.197928893645642 20.09399423504375\n",
       " angles : 90.0 90.0 120.00000000000001\n",
       " volume : 306.6670115900389\n",
       "      A : 2.0989644468228215 -3.6355130651778294 0.0\n",
       "      B : 2.0989644468228215 3.6355130651778294 0.0\n",
       "      C : 0.0 0.0 20.09399423504375\n",
       "    pbc : True True True\n",
       "PeriodicSite: Cs (0.0, 0.0, 5.182) [0.0, 0.0, 0.2579]\n",
       "PeriodicSite: Cs (2.099, -1.212, 1.516) [0.6667, 0.3333, 0.07545]\n",
       "PeriodicSite: Cs (2.099, -1.212, 11.88) [0.6667, 0.3333, 0.5912]\n",
       "PeriodicSite: Cs (2.099, 1.212, 8.214) [0.3333, 0.6667, 0.4088]\n",
       "PeriodicSite: Cs (2.099, 1.212, 18.58) [0.3333, 0.6667, 0.9245]\n",
       "PeriodicSite: Cs (0.0, 0.0, 14.91) [0.0, 0.0, 0.7421]\n",
       "PeriodicSite: O (0.0, 0.0, 0.0) [0.0, 0.0, 0.0]\n",
       "PeriodicSite: O (2.099, -1.212, 6.698) [0.6667, 0.3333, 0.3333]\n",
       "PeriodicSite: O (2.099, 1.212, 13.4) [0.3333, 0.6667, 0.6667]"
      ]
     },
     "execution_count": 3,
     "metadata": {},
     "output_type": "execute_result"
    }
   ],
   "source": [
    "print(\"Visualisation de la maille conventionnelle :\")\n",
    "view = JsmolView.from_str(prim_struc.to(fmt=\"cif\"), \"cif\")\n",
    "display(view)\n",
    "\n",
    "print(\"Structure de la maille conventionnelle :\")\n",
    "conv_struc"
   ]
  },
  {
   "cell_type": "code",
   "execution_count": 4,
   "metadata": {},
   "outputs": [
    {
     "name": "stdout",
     "output_type": "stream",
     "text": [
      "Vecteurs du réseau direct :\n",
      "\n",
      "a = [2.0989644468228215, -3.6355130651778294, 0.0]\n",
      "b = [2.0989644468228215, 3.6355130651778294, 0.0]\n",
      "c = [0.0, 0.0, 20.09399423504375]\n",
      "\n",
      " Vecteurs du réseau réciproque :\n",
      "\n",
      "h = [1.4967345723007297, -0.8641401082232456, 0.0]\n",
      "k = [1.4967345723007297, 0.8641401082232456, 0.0]\n",
      "l = [0.0, 0.0, 0.3126897138360758]\n"
     ]
    }
   ],
   "source": [
    "#Déterminations des vecteurs du réseau direct\n",
    "\n",
    "dir_mat = conv_struc.lattice.matrix\n",
    "abc = [[],[],[]]\n",
    "\n",
    "for i in range (3) :\n",
    "    for j in range (3) :\n",
    "        abc[i].append(dir_mat[i][j])\n",
    "print(\"Vecteurs du réseau direct :\\n\")\n",
    "print(\"a = \"+str(abc[0]))\n",
    "print(\"b = \"+str(abc[1]))\n",
    "print(\"c = \"+str(abc[2]))\n",
    "\n",
    "#Détermination des vecteurs du réseau réciproque\n",
    "\n",
    "rec_mat = conv_struc.lattice.reciprocal_lattice.matrix\n",
    "hkl = [[],[],[]]\n",
    "\n",
    "for i in range (3) :\n",
    "    for j in range (3) :\n",
    "        hkl[i].append(rec_mat[i][j])\n",
    "print(\"\\n Vecteurs du réseau réciproque :\\n\")\n",
    "print(\"h = \"+str(hkl[0]))\n",
    "print(\"k = \"+str(hkl[1]))\n",
    "print(\"l = \"+str(hkl[2]))\n"
   ]
  },
  {
   "cell_type": "code",
   "execution_count": 5,
   "metadata": {},
   "outputs": [
    {
     "name": "stdout",
     "output_type": "stream",
     "text": [
      "Le symbole est : R-3m\n",
      "Et le type de maille est : R (rhombohedral)\n"
     ]
    }
   ],
   "source": [
    "#Determination de la maille.\n",
    "symbol = SpacegroupAnalyzer(prim_struc).get_space_group_symbol()\n",
    "type = SpacegroupAnalyzer(prim_struc).get_lattice_type()\n",
    "print(\"Le symbole est : \" + str(symbol))\n",
    "print(\"Et le type de maille est : \" + str(symbol[0]) + \" (\" + str(type) + \")\")"
   ]
  },
  {
   "cell_type": "code",
   "execution_count": 6,
   "metadata": {},
   "outputs": [
    {
     "name": "stdout",
     "output_type": "stream",
     "text": [
      "Son système cristallin est : trigonal\n"
     ]
    }
   ],
   "source": [
    "#Détermination du système cristallin.\n",
    "cristal_systm = SpacegroupAnalyzer(prim_struc).get_crystal_system()\n",
    "print(\"Son système cristallin est : \" + str(cristal_systm))"
   ]
  },
  {
   "cell_type": "code",
   "execution_count": 7,
   "metadata": {},
   "outputs": [
    {
     "name": "stdout",
     "output_type": "stream",
     "text": [
      "Le groupe ponctuel est : -3m.\n"
     ]
    }
   ],
   "source": [
    "#Détermination du groupe ponctuel\n",
    "point_group_symb = SpacegroupAnalyzer(prim_struc).get_point_group_symbol()\n",
    "print(\"Le groupe ponctuel est : \"+str(point_group_symb)+\".\")"
   ]
  }
 ],
 "metadata": {
  "kernelspec": {
   "display_name": "Python 3",
   "language": "python",
   "name": "python3"
  },
  "language_info": {
   "codemirror_mode": {
    "name": "ipython",
    "version": 3
   },
   "file_extension": ".py",
   "mimetype": "text/x-python",
   "name": "python",
   "nbconvert_exporter": "python",
   "pygments_lexer": "ipython3",
   "version": "3.10.11"
  }
 },
 "nbformat": 4,
 "nbformat_minor": 2
}
