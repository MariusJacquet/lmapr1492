{
 "cells": [
  {
   "cell_type": "code",
   "execution_count": 8,
   "id": "812b4f9e",
   "metadata": {},
   "outputs": [],
   "source": [
    "from pymatgen.symmetry.analyzer import SpacegroupAnalyzer\n",
    "from pymatgen.ext.matproj import MPRester"
   ]
  },
  {
   "cell_type": "code",
   "execution_count": 9,
   "id": "319b052e",
   "metadata": {},
   "outputs": [],
   "source": [
    "#Récupération de la structure du matériau\n",
    "\n",
    "with MPRester(\"eydjkyvaohvx0D8I\") as m:\n",
    "    structure = m.get_structure_by_material_id(\"mp-1394\")"
   ]
  },
  {
   "cell_type": "code",
   "execution_count": 10,
   "id": "459b1e59",
   "metadata": {},
   "outputs": [],
   "source": [
    "#récupération de la structure conventionnel qui correspond à la maille du fichier CIF symmetrized\n",
    "struct = SpacegroupAnalyzer(structure)\n",
    "struct_con = struct.get_conventional_standard_structure()"
   ]
  },
  {
   "cell_type": "code",
   "execution_count": 11,
   "id": "d36325a5",
   "metadata": {},
   "outputs": [
    {
     "name": "stdout",
     "output_type": "stream",
     "text": [
      "Vecteurs du réseau direct :\n",
      "\n",
      "a = [6.87719, 0.0, 0.0]\n",
      "b = [0.0, 6.87719, 0.0]\n",
      "c = [0.0, 0.0, 6.87719]\n",
      "\n",
      " Vecteurs du réseau réciproque :\n",
      "\n",
      "h = [0.9136268311882595, 0.0, 0.0]\n",
      "k = [0.0, 0.9136268311882595, 0.0]\n",
      "l = [0.0, 0.0, 0.9136268311882595]\n",
      "\n",
      " Toutes les valeurs inférieure à e-14 ont été remplacées par 0 afin de simplifier la lecture\n"
     ]
    }
   ],
   "source": [
    "#Valeur minimale acceptée dans la représentation des vecteurs\n",
    "\n",
    "epsilon = 10**(-14)\n",
    "\n",
    "#Déterminations des vecteurs du réseau direct\n",
    "\n",
    "abc = struct_con.lattice.matrix\n",
    "abc2 = [[],[],[]]\n",
    "\n",
    "for i in range (3) :\n",
    "    for j in range (3) :\n",
    "        if abc[i][j] < epsilon :\n",
    "            abc2[i].append(0.)\n",
    "        else :\n",
    "            abc2[i].append(abc[i][j])\n",
    "print(\"Vecteurs du réseau direct :\\n\")\n",
    "print(\"a = \"+str(abc2[0]))\n",
    "print(\"b = \"+str(abc2[1]))\n",
    "print(\"c = \"+str(abc2[2]))\n",
    "\n",
    "#Détermination des vecteurs du réseau réciproque\n",
    "\n",
    "hkl = struct_con.lattice.reciprocal_lattice.matrix\n",
    "hkl2 = [[],[],[]]\n",
    "\n",
    "for i in range (3) :\n",
    "    for j in range (3) :\n",
    "        if hkl[i][j] < epsilon :\n",
    "            hkl2[i].append(0.)\n",
    "        else :\n",
    "            hkl2[i].append(hkl[i][j])\n",
    "print(\"\\n Vecteurs du réseau réciproque :\\n\")\n",
    "print(\"h = \"+str(hkl2[0]))\n",
    "print(\"k = \"+str(hkl2[1]))\n",
    "print(\"l = \"+str(hkl2[2]))\n",
    "\n",
    "print(\"\\n Toutes les valeurs inférieure à e-14 ont été remplacées par 0 afin de simplifier la lecture\")"
   ]
  },
  {
   "cell_type": "code",
   "execution_count": 12,
   "id": "3394ef2a",
   "metadata": {},
   "outputs": [
    {
     "name": "stdout",
     "output_type": "stream",
     "text": [
      "Le type de maille est : F\n"
     ]
    }
   ],
   "source": [
    "#Determination de la maille.\n",
    "mesh = struct.get_space_group_symbol()\n",
    "print(\"Le type de maille est : \" + str(mesh[0]))"
   ]
  },
  {
   "cell_type": "code",
   "execution_count": 13,
   "id": "24db1d7b",
   "metadata": {},
   "outputs": [
    {
     "name": "stdout",
     "output_type": "stream",
     "text": [
      "Son système cristallin est : cubic\n"
     ]
    }
   ],
   "source": [
    "#Détermination du système cristallin.\n",
    "cristal_systm = struct.get_crystal_system()\n",
    "print(\"Son système cristallin est : \" + str(cristal_systm))"
   ]
  },
  {
   "cell_type": "code",
   "execution_count": 14,
   "id": "a4ac82c5",
   "metadata": {},
   "outputs": [
    {
     "name": "stdout",
     "output_type": "stream",
     "text": [
      "Le groupe ponctuel est : m-3m.\n"
     ]
    }
   ],
   "source": [
    "#Détermination du groupe ponctuel\n",
    "point_group_symb = struct.get_point_group_symbol()\n",
    "print(\"Le groupe ponctuel est : \"+str(point_group_symb)+\".\")"
   ]
  }
 ],
 "metadata": {
  "kernelspec": {
   "display_name": "Python 3",
   "language": "python",
   "name": "python3"
  },
  "language_info": {
   "codemirror_mode": {
    "name": "ipython",
    "version": 3
   },
   "file_extension": ".py",
   "mimetype": "text/x-python",
   "name": "python",
   "nbconvert_exporter": "python",
   "pygments_lexer": "ipython3",
   "version": "3.10.11"
  }
 },
 "nbformat": 4,
 "nbformat_minor": 5
}
