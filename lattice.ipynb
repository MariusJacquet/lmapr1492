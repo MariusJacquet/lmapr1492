{
 "cells": [
  {
   "cell_type": "code",
   "execution_count": 19,
   "id": "812b4f9e",
   "metadata": {},
   "outputs": [],
   "source": [
    "from pymatgen import Structure\n",
    "from pymatgen.symmetry.analyzer import SpacegroupAnalyzer\n",
    "from pymatgen.ext.matproj import MPRester"
   ]
  },
  {
   "cell_type": "code",
   "execution_count": 20,
   "id": "459b1e59",
   "metadata": {},
   "outputs": [],
   "source": [
    "with MPRester(\"eydjkyvaohvx0D8I\") as m:\n",
    "    structure = m.get_structure_by_material_id(\"mp-30460\")\n",
    "struct = SpacegroupAnalyzer(structure)\n",
    "struct_con = struct.get_conventional_standard_structure()\n",
    "#récupération de la structure conventionnel qui correspond à la maille du fichier CIF symmetrized"
   ]
  },
  {
   "cell_type": "code",
   "execution_count": 21,
   "id": "d36325a5",
   "metadata": {},
   "outputs": [
    {
     "name": "stdout",
     "output_type": "stream",
     "text": [
      "a = [6.49753600e+00 0.00000000e+00 3.97859333e-16]\n",
      "b = [1.04488348e-15 6.49753600e+00 3.97859333e-16]\n",
      "c = [0.       0.       6.497536]\n",
      "h = [ 9.67010465e-01 -1.55507143e-16  0.00000000e+00]\n",
      "k = [0.         0.96701046 0.        ]\n",
      "l = [-5.92123135e-17 -5.92123135e-17  9.67010465e-01]\n",
      "Cependant, notons que les valeurs exposants -16 et -17 peuvent être approximées par 0.\n"
     ]
    }
   ],
   "source": [
    "#Déterminations des vecteurs du réseau direct\n",
    "abc = struct_con.lattice.matrix\n",
    "a = abc[0]\n",
    "b = abc[1]\n",
    "c = abc[2]\n",
    "\n",
    "print(\"a = \"+str(a))\n",
    "print(\"b = \"+str(b))\n",
    "print(\"c = \"+str(c))\n",
    "\n",
    "#Détermination des vecteurs du réseau réciproque\n",
    "\n",
    "hkl = struct_con.lattice.reciprocal_lattice.matrix\n",
    "h = hkl[0]\n",
    "k = hkl[1]\n",
    "l = hkl[2]\n",
    "print(\"h = \"+str(h))\n",
    "print(\"k = \"+str(k))\n",
    "print(\"l = \"+str(l))\n",
    "\n",
    "print(\"Cependant, notons que les valeurs exposants -16 et -17 peuvent être approximées par 0.\")"
   ]
  },
  {
   "cell_type": "code",
   "execution_count": 22,
   "id": "3394ef2a",
   "metadata": {},
   "outputs": [
    {
     "name": "stdout",
     "output_type": "stream",
     "text": [
      "F\n"
     ]
    }
   ],
   "source": [
    "#Determination de la maille.\n",
    "mesh = struct.get_space_group_symbol()\n",
    "print(str(mesh[0]))"
   ]
  },
  {
   "cell_type": "code",
   "execution_count": 23,
   "id": "24db1d7b",
   "metadata": {},
   "outputs": [
    {
     "name": "stdout",
     "output_type": "stream",
     "text": [
      "cubic\n"
     ]
    }
   ],
   "source": [
    "#Détermination du système cristallin.\n",
    "cristal_systm = struct.get_crystal_system()\n",
    "print(str(cristal_systm))"
   ]
  },
  {
   "cell_type": "code",
   "execution_count": 24,
   "id": "a4ac82c5",
   "metadata": {},
   "outputs": [
    {
     "name": "stdout",
     "output_type": "stream",
     "text": [
      "Le groupe ponctuel est -43m.\n"
     ]
    }
   ],
   "source": [
    "#Détermination du groupe ponctuel\n",
    "point_group = struct.get_point_group_symbol()\n",
    "print(\"Le groupe ponctuel est \"+str(point_group)+\".\")"
   ]
  },
  {
   "cell_type": "code",
   "execution_count": null,
   "id": "9f6e1236",
   "metadata": {},
   "outputs": [],
   "source": []
  }
 ],
 "metadata": {
  "kernelspec": {
   "display_name": "Python 3",
   "language": "python",
   "name": "python3"
  },
  "language_info": {
   "codemirror_mode": {
    "name": "ipython",
    "version": 3
   },
   "file_extension": ".py",
   "mimetype": "text/x-python",
   "name": "python",
   "nbconvert_exporter": "python",
   "pygments_lexer": "ipython3",
   "version": "3.6.8"
  }
 },
 "nbformat": 4,
 "nbformat_minor": 5
}
